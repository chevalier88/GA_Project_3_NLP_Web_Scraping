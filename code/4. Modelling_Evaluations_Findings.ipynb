{
 "cells": [
  {
   "cell_type": "markdown",
   "metadata": {},
   "source": [
    "# 4. Modelling, Evaluations and Findings"
   ]
  },
  {
   "cell_type": "markdown",
   "metadata": {},
   "source": [
    "## Imports and Reading In"
   ]
  },
  {
   "cell_type": "markdown",
   "metadata": {},
   "source": [
    "Again, we will use interactive plots for our numerical data. **You'll be able to zoom in and mouse over the distributions to see value counts.**\n",
    "\n",
    "**For the visualizations to work, please install the libraries at your command line/terminal using:**\n",
    "\n",
    "    pip install plotly\n",
    "    pip install cufflinks\n",
    "    pip install squarify"
   ]
  },
  {
   "cell_type": "code",
   "execution_count": 1,
   "metadata": {},
   "outputs": [
    {
     "data": {
      "text/html": [
       "        <script type=\"text/javascript\">\n",
       "        window.PlotlyConfig = {MathJaxConfig: 'local'};\n",
       "        if (window.MathJax) {MathJax.Hub.Config({SVG: {font: \"STIX-Web\"}});}\n",
       "        if (typeof require !== 'undefined') {\n",
       "        require.undef(\"plotly\");\n",
       "        requirejs.config({\n",
       "            paths: {\n",
       "                'plotly': ['https://cdn.plot.ly/plotly-latest.min']\n",
       "            }\n",
       "        });\n",
       "        require(['plotly'], function(Plotly) {\n",
       "            window._Plotly = Plotly;\n",
       "        });\n",
       "        }\n",
       "        </script>\n",
       "        "
      ]
     },
     "metadata": {},
     "output_type": "display_data"
    },
    {
     "data": {
      "text/html": [
       "        <script type=\"text/javascript\">\n",
       "        window.PlotlyConfig = {MathJaxConfig: 'local'};\n",
       "        if (window.MathJax) {MathJax.Hub.Config({SVG: {font: \"STIX-Web\"}});}\n",
       "        if (typeof require !== 'undefined') {\n",
       "        require.undef(\"plotly\");\n",
       "        requirejs.config({\n",
       "            paths: {\n",
       "                'plotly': ['https://cdn.plot.ly/plotly-latest.min']\n",
       "            }\n",
       "        });\n",
       "        require(['plotly'], function(Plotly) {\n",
       "            window._Plotly = Plotly;\n",
       "        });\n",
       "        }\n",
       "        </script>\n",
       "        "
      ]
     },
     "metadata": {},
     "output_type": "display_data"
    }
   ],
   "source": [
    "#the usual dataframe and visualization imports\n",
    "\n",
    "import numpy as np\n",
    "import pandas as pd\n",
    "import matplotlib.pyplot as plt\n",
    "import matplotlib\n",
    "import seaborn as sns\n",
    "\n",
    "#plotly, squarify and cufflinks interactive chart imports\n",
    "\n",
    "from plotly import __version__\n",
    "from plotly.offline import download_plotlyjs, init_notebook_mode, plot, iplot\n",
    "import cufflinks as cf\n",
    "import plotly.express as px #another related library of plotly that makes it easy to draw multiple plots\n",
    "import squarify\n",
    "\n",
    "#we have to make sure this code is run for Jupyter Notebooks otherwise the plots may not happen offline:\n",
    "init_notebook_mode(connected=True)\n",
    "cf.go_offline()"
   ]
  },
  {
   "cell_type": "code",
   "execution_count": 2,
   "metadata": {},
   "outputs": [],
   "source": [
    "#expand column width\n",
    "\n",
    "pd.set_option(\"display.max_colwidth\", 500)"
   ]
  },
  {
   "cell_type": "code",
   "execution_count": 3,
   "metadata": {},
   "outputs": [],
   "source": [
    "#importing modeling libraries\n",
    "\n",
    "from sklearn.feature_extraction.text import TfidfTransformer, CountVectorizer, TfidfVectorizer\n",
    "from sklearn.model_selection import train_test_split, GridSearchCV\n",
    "from sklearn.pipeline import Pipeline\n",
    "from sklearn.linear_model import LogisticRegression\n",
    "from sklearn.naive_bayes import MultinomialNB\n",
    "from sklearn import svm, linear_model, metrics\n",
    "from sklearn.metrics import confusion_matrix, classification_report"
   ]
  },
  {
   "cell_type": "code",
   "execution_count": 4,
   "metadata": {},
   "outputs": [],
   "source": [
    "df = pd.read_csv(\"../data/df_processed.csv\")"
   ]
  },
  {
   "cell_type": "code",
   "execution_count": 5,
   "metadata": {},
   "outputs": [],
   "source": [
    "#since we're only looking at 2 subreddits, we can just convert the subreddit column to a binary variable \n",
    "#using dummy encoding (n-1 columns)\n",
    "\n",
    "subs = df[['subreddit']]\n",
    "dummied = pd.get_dummies(subs, drop_first=True) #drop first = true because we aren't one-hot encoding\n",
    "df[\"subreddit_datascience\"]=dummied\n",
    "\n",
    "df.drop('subreddit', axis = 1, inplace = True)"
   ]
  },
  {
   "cell_type": "code",
   "execution_count": 6,
   "metadata": {},
   "outputs": [
    {
     "name": "stdout",
     "output_type": "stream",
     "text": [
      "<class 'pandas.core.frame.DataFrame'>\n",
      "RangeIndex: 1286 entries, 0 to 1285\n",
      "Data columns (total 9 columns):\n",
      " #   Column                 Non-Null Count  Dtype \n",
      "---  ------                 --------------  ----- \n",
      " 0   title                  1286 non-null   object\n",
      " 1   link_flair_text        1286 non-null   object\n",
      " 2   selftext               1286 non-null   object\n",
      " 3   score                  1286 non-null   int64 \n",
      " 4   url                    1286 non-null   object\n",
      " 5   num_comments           1286 non-null   int64 \n",
      " 6   cleaned_text           1286 non-null   object\n",
      " 7   cleaned_title          1285 non-null   object\n",
      " 8   subreddit_datascience  1286 non-null   uint8 \n",
      "dtypes: int64(2), object(6), uint8(1)\n",
      "memory usage: 81.8+ KB\n"
     ]
    }
   ],
   "source": [
    "df.info()\n",
    "\n",
    "#seems we have one NaN title."
   ]
  },
  {
   "cell_type": "code",
   "execution_count": 7,
   "metadata": {},
   "outputs": [
    {
     "data": {
      "text/html": [
       "<div>\n",
       "<style scoped>\n",
       "    .dataframe tbody tr th:only-of-type {\n",
       "        vertical-align: middle;\n",
       "    }\n",
       "\n",
       "    .dataframe tbody tr th {\n",
       "        vertical-align: top;\n",
       "    }\n",
       "\n",
       "    .dataframe thead th {\n",
       "        text-align: right;\n",
       "    }\n",
       "</style>\n",
       "<table border=\"1\" class=\"dataframe\">\n",
       "  <thead>\n",
       "    <tr style=\"text-align: right;\">\n",
       "      <th></th>\n",
       "      <th>title</th>\n",
       "      <th>link_flair_text</th>\n",
       "      <th>selftext</th>\n",
       "      <th>score</th>\n",
       "      <th>url</th>\n",
       "      <th>num_comments</th>\n",
       "      <th>cleaned_text</th>\n",
       "      <th>cleaned_title</th>\n",
       "      <th>subreddit_datascience</th>\n",
       "    </tr>\n",
       "  </thead>\n",
       "  <tbody>\n",
       "    <tr>\n",
       "      <th>177</th>\n",
       "      <td>Who are you?</td>\n",
       "      <td>Discussion</td>\n",
       "      <td>I'm really interested in getting an idea of who is a part of this community and where they are right now.\\n\\n[View Poll](https://www.reddit.com/poll/gu1iqk)</td>\n",
       "      <td>3</td>\n",
       "      <td>https://www.reddit.com/r/datascience/comments/gu1iqk/who_are_you/</td>\n",
       "      <td>8</td>\n",
       "      <td>really interested getting idea part community right view poll http www reddit com poll gu iqk</td>\n",
       "      <td>NaN</td>\n",
       "      <td>1</td>\n",
       "    </tr>\n",
       "  </tbody>\n",
       "</table>\n",
       "</div>"
      ],
      "text/plain": [
       "            title link_flair_text  \\\n",
       "177  Who are you?      Discussion   \n",
       "\n",
       "                                                                                                                                                         selftext  \\\n",
       "177  I'm really interested in getting an idea of who is a part of this community and where they are right now.\\n\\n[View Poll](https://www.reddit.com/poll/gu1iqk)   \n",
       "\n",
       "     score                                                                url  \\\n",
       "177      3  https://www.reddit.com/r/datascience/comments/gu1iqk/who_are_you/   \n",
       "\n",
       "     num_comments  \\\n",
       "177             8   \n",
       "\n",
       "                                                                                      cleaned_text  \\\n",
       "177  really interested getting idea part community right view poll http www reddit com poll gu iqk   \n",
       "\n",
       "    cleaned_title  subreddit_datascience  \n",
       "177           NaN                      1  "
      ]
     },
     "execution_count": 7,
     "metadata": {},
     "output_type": "execute_result"
    }
   ],
   "source": [
    "#okay it seems the reason why our cleaned_title returned a NaN is because the original title comprises stop words.\n",
    "\n",
    "df[df.isnull().any(axis=1)] "
   ]
  },
  {
   "cell_type": "code",
   "execution_count": 8,
   "metadata": {},
   "outputs": [
    {
     "data": {
      "text/html": [
       "<div>\n",
       "<style scoped>\n",
       "    .dataframe tbody tr th:only-of-type {\n",
       "        vertical-align: middle;\n",
       "    }\n",
       "\n",
       "    .dataframe tbody tr th {\n",
       "        vertical-align: top;\n",
       "    }\n",
       "\n",
       "    .dataframe thead th {\n",
       "        text-align: right;\n",
       "    }\n",
       "</style>\n",
       "<table border=\"1\" class=\"dataframe\">\n",
       "  <thead>\n",
       "    <tr style=\"text-align: right;\">\n",
       "      <th></th>\n",
       "      <th>title</th>\n",
       "      <th>link_flair_text</th>\n",
       "      <th>selftext</th>\n",
       "      <th>score</th>\n",
       "      <th>url</th>\n",
       "      <th>num_comments</th>\n",
       "      <th>cleaned_text</th>\n",
       "      <th>cleaned_title</th>\n",
       "      <th>subreddit_datascience</th>\n",
       "    </tr>\n",
       "  </thead>\n",
       "  <tbody>\n",
       "    <tr>\n",
       "      <th>177</th>\n",
       "      <td>Who are you?</td>\n",
       "      <td>Discussion</td>\n",
       "      <td>I'm really interested in getting an idea of who is a part of this community and where they are right now.\\n\\n[View Poll](https://www.reddit.com/poll/gu1iqk)</td>\n",
       "      <td>3</td>\n",
       "      <td>https://www.reddit.com/r/datascience/comments/gu1iqk/who_are_you/</td>\n",
       "      <td>8</td>\n",
       "      <td>really interested getting idea part community right view poll http www reddit com poll gu iqk</td>\n",
       "      <td>none</td>\n",
       "      <td>1</td>\n",
       "    </tr>\n",
       "  </tbody>\n",
       "</table>\n",
       "</div>"
      ],
      "text/plain": [
       "            title link_flair_text  \\\n",
       "177  Who are you?      Discussion   \n",
       "\n",
       "                                                                                                                                                         selftext  \\\n",
       "177  I'm really interested in getting an idea of who is a part of this community and where they are right now.\\n\\n[View Poll](https://www.reddit.com/poll/gu1iqk)   \n",
       "\n",
       "     score                                                                url  \\\n",
       "177      3  https://www.reddit.com/r/datascience/comments/gu1iqk/who_are_you/   \n",
       "\n",
       "     num_comments  \\\n",
       "177             8   \n",
       "\n",
       "                                                                                      cleaned_text  \\\n",
       "177  really interested getting idea part community right view poll http www reddit com poll gu iqk   \n",
       "\n",
       "    cleaned_title  subreddit_datascience  \n",
       "177          none                      1  "
      ]
     },
     "execution_count": 8,
     "metadata": {},
     "output_type": "execute_result"
    }
   ],
   "source": [
    "#we will just fill it with the word \"none\" since the content of the original title does not suggest much meaning\n",
    "\n",
    "df.fillna(value=\"none\", inplace = True)\n",
    "df.loc[[177]]"
   ]
  },
  {
   "cell_type": "code",
   "execution_count": 9,
   "metadata": {},
   "outputs": [
    {
     "name": "stdout",
     "output_type": "stream",
     "text": [
      "<class 'pandas.core.frame.DataFrame'>\n",
      "RangeIndex: 1286 entries, 0 to 1285\n",
      "Data columns (total 9 columns):\n",
      " #   Column                 Non-Null Count  Dtype \n",
      "---  ------                 --------------  ----- \n",
      " 0   title                  1286 non-null   object\n",
      " 1   link_flair_text        1286 non-null   object\n",
      " 2   selftext               1286 non-null   object\n",
      " 3   score                  1286 non-null   int64 \n",
      " 4   url                    1286 non-null   object\n",
      " 5   num_comments           1286 non-null   int64 \n",
      " 6   cleaned_text           1286 non-null   object\n",
      " 7   cleaned_title          1286 non-null   object\n",
      " 8   subreddit_datascience  1286 non-null   uint8 \n",
      "dtypes: int64(2), object(6), uint8(1)\n",
      "memory usage: 81.8+ KB\n"
     ]
    }
   ],
   "source": [
    "#it looks to be in order - let's double check if no NaNs anywhere:\n",
    "\n",
    "df.info()\n",
    "\n",
    "#ok good to go. Moving on to the baseline score."
   ]
  },
  {
   "cell_type": "markdown",
   "metadata": {},
   "source": [
    "## Baseline Score: Unoptimized Multinomial Bayes Modelling Accuracy is 0.868."
   ]
  },
  {
   "cell_type": "markdown",
   "metadata": {},
   "source": [
    "Recall the *first half* of our problem statement below:\n",
    "\n",
    "\"Can we create a Natural Language Processing model utilizing either MultiNomial Bayes or Logistic Regression to: \n",
    "* accurately predict whether a post is from r/DataScience or r/Analytics?\"\n",
    "    \n",
    "Let's calculate the benchmark score or \"baseline\" score that our predictive models need to beat. For this project, we will use Multinomial Bayes without Grid Search CV optimization.\n",
    "\n",
    "**What would be our baseline accuracy in predicting posts to be from r/datascience and *not* r/analytics using Multinomial Bayes from all text?**"
   ]
  },
  {
   "cell_type": "code",
   "execution_count": 10,
   "metadata": {},
   "outputs": [],
   "source": [
    "#let's create an aggregated column of all words in post text and titles\n",
    "\n",
    "df[\"all_words_clean\"]=df[\"cleaned_text\"]+ \" \" +df[\"cleaned_title\"]"
   ]
  },
  {
   "cell_type": "code",
   "execution_count": 11,
   "metadata": {},
   "outputs": [
    {
     "name": "stdout",
     "output_type": "stream",
     "text": [
      "<class 'pandas.core.frame.DataFrame'>\n",
      "RangeIndex: 1286 entries, 0 to 1285\n",
      "Data columns (total 10 columns):\n",
      " #   Column                 Non-Null Count  Dtype \n",
      "---  ------                 --------------  ----- \n",
      " 0   title                  1286 non-null   object\n",
      " 1   link_flair_text        1286 non-null   object\n",
      " 2   selftext               1286 non-null   object\n",
      " 3   score                  1286 non-null   int64 \n",
      " 4   url                    1286 non-null   object\n",
      " 5   num_comments           1286 non-null   int64 \n",
      " 6   cleaned_text           1286 non-null   object\n",
      " 7   cleaned_title          1286 non-null   object\n",
      " 8   subreddit_datascience  1286 non-null   uint8 \n",
      " 9   all_words_clean        1286 non-null   object\n",
      "dtypes: int64(2), object(7), uint8(1)\n",
      "memory usage: 91.8+ KB\n"
     ]
    }
   ],
   "source": [
    "df.info()"
   ]
  },
  {
   "cell_type": "code",
   "execution_count": 12,
   "metadata": {},
   "outputs": [],
   "source": [
    "#assigning X and Y\n",
    "X = df[\"all_words_clean\"]\n",
    "y = df[\"subreddit_datascience\"]"
   ]
  },
  {
   "cell_type": "code",
   "execution_count": 13,
   "metadata": {},
   "outputs": [],
   "source": [
    "#train test splitting using sklearn\n",
    "X_train, X_test, y_train, y_test = train_test_split(X, y, test_size=0.20, stratify=y)"
   ]
  },
  {
   "cell_type": "code",
   "execution_count": 14,
   "metadata": {},
   "outputs": [],
   "source": [
    "#we once again will convert our words into vectors\n",
    "#intialize CountVectorizer and assign as vectorizer that will look at single words and bigrams\n",
    "cvec = CountVectorizer(ngram_range=(1, 2))"
   ]
  },
  {
   "cell_type": "code",
   "execution_count": 15,
   "metadata": {},
   "outputs": [],
   "source": [
    "X_train_cvec = pd.DataFrame(cvec.fit_transform(X_train).todense(),\n",
    "                            columns=cvec.get_feature_names())"
   ]
  },
  {
   "cell_type": "code",
   "execution_count": 16,
   "metadata": {},
   "outputs": [],
   "source": [
    "X_test_cvec = pd.DataFrame(cvec.transform(X_test).todense(),\n",
    "                            columns=cvec.get_feature_names())"
   ]
  },
  {
   "cell_type": "code",
   "execution_count": 17,
   "metadata": {},
   "outputs": [
    {
     "name": "stdout",
     "output_type": "stream",
     "text": [
      "training accuracy score is 0.9961089494163424\n",
      "test accuracy score is 0.8488372093023255\n"
     ]
    }
   ],
   "source": [
    "#Instantiating our Multinomial Bayes model\n",
    "\n",
    "nb = MultinomialNB()\n",
    "MNB_model= nb.fit(X_train_cvec, y_train) #fitting model to our train set\n",
    "train_score = MNB_model.score(X_train_cvec, y_train) #scoring on train\n",
    "test_score = MNB_model.score(X_test_cvec, y_test) #scoring on test.\n",
    "\n",
    "print(f\"training accuracy score is {train_score}\")\n",
    "print(f\"test accuracy score is {test_score}\")\n"
   ]
  },
  {
   "cell_type": "markdown",
   "metadata": {},
   "source": [
    "**Our baseline score to beat is 0.868 using unoptimized MultiNomial Bayes, which is pretty high given that a perfect score of 1 (for perfect predictions) isn't all that far away.**"
   ]
  },
  {
   "cell_type": "markdown",
   "metadata": {},
   "source": [
    "## Testing out Other Models"
   ]
  },
  {
   "cell_type": "markdown",
   "metadata": {},
   "source": [
    "Let's try it with the TF-IDF weighting and also GridSearchCV.  We will create a pipeline to fit onto our model to make life easier, and build a function around it that lets you pick between Multinomial Bayes or SVM. It will also print all the metrics, and create a confusion matrix."
   ]
  },
  {
   "cell_type": "code",
   "execution_count": 18,
   "metadata": {},
   "outputs": [],
   "source": [
    "##takes 2 variables, predictor and classifier. Predictor = column name string; \n",
    "#classifier = either 1 for \"bayes\" or 2 for \"svm\"\n",
    "\n",
    "def grid_modeller_scorer(predictor, classifier):\n",
    "    X = df[predictor]\n",
    "    y = df[\"subreddit_datascience\"]\n",
    "    X_train, X_test, y_train, y_test = train_test_split(X, y, test_size=0.20, stratify=y)\n",
    "    \n",
    "    if classifier == 1:\n",
    "        #create Multinomial Bayes pipeline using Count Vectorizer and TFIDF Vectorizer\n",
    "        pipeline_bayes = Pipeline([(\"wordbag\",TfidfVectorizer()), #word vectorizing into weighted token integers\n",
    "                                    (\"classifier\",MultinomialNB()), #train on TF-IDF w Naive Bayes\n",
    "                                    ])\n",
    "        #run grid search on TFIDF Vectorizer parameters\n",
    "        param_grid = {'wordbag__ngram_range':[(1,1),(1,2),(2,2)],'wordbag__max_features': [25, 50, 100,1000,10000]}\n",
    "        gs = GridSearchCV(pipeline_bayes, param_grid, cv=3, n_jobs=-1, verbose=1) \n",
    "        gs.fit(X_train, y_train)\n",
    "        \n",
    "        #get scores\n",
    "        gb_train_score = gs.score(X_train, y_train)\n",
    "        gb_test_score = gs.score(X_test, y_test)\n",
    "        \n",
    "        #get confusion matrix and classification metrics\n",
    "        y_pred = gs.predict(X_test)\n",
    "        cm = confusion_matrix(y_test, y_pred)\n",
    "        cm_df = pd.DataFrame(cm, columns=[\"pred datascience\",\"pred analytics\"], index=[\"actual datascience\",\"actual analytics\"])\n",
    "        \n",
    "        #print out accuracy, estimator and parameters from GridSearchCV\n",
    "        print(f'grid bayes best train score = {gb_train_score}')\n",
    "        print(f'grid bayes best test score = {gb_test_score}')\n",
    "        print(f'grid bayes best estimator = {gs.best_estimator_}')\n",
    "        print(f'grid bayes best parameters = {gs.best_params_}')\n",
    "        print(f\"MNB Accuracy - how often is model correct?:\",metrics.accuracy_score(y_test, y_pred))\n",
    "        print(f\"MNB Precision - ability not to label as positive a sample that is negative:\",metrics.precision_score(y_test, y_pred))\n",
    "        print(f\"MNB Sensitivity or Recall - ability to find all the positive samples.:\",metrics.recall_score(y_test, y_pred))\n",
    "                \n",
    "        #turns classification report into a dictionary from which we can print other metrics\n",
    "        #then returns the actual dataframe of the confusion matrix        \n",
    "       \n",
    "        return cm_df\n",
    "    \n",
    "    elif classifier == 2:\n",
    "        #create SVM pipeline using Count Vectorizer and TFIDF Transfformer\n",
    "        pipeline_svm = Pipeline([(\"wordbag\",TfidfVectorizer()), #word vectorizing into weighted token integers\n",
    "                                 (\"classifier\",svm.SVC()), #train on TF-IDF w SVC\n",
    "                                ])\n",
    "        #run grid search on TFIDF Vectorizer and SVM parameters\n",
    "        param_grid = {\"wordbag__ngram_range\":[(1,1),(1,2),(2,2)],\"wordbag__max_features\": [25, 50, 100,1000,10000], \n",
    "                      \"classifier__C\":[1,10], \"classifier__gamma\":[0.001, 0.01, 0.1, 1], \n",
    "                      \"classifier__kernel\":('linear', 'rbf','sigmoid','poly')}\n",
    "        \n",
    "        gs = GridSearchCV(pipeline_svm, param_grid, cv=3, n_jobs=-1, scoring = \"accuracy\", verbose=1) \n",
    "        gs.fit(X_train, y_train)\n",
    "        \n",
    "        #get scores\n",
    "        svm_train_score = gs.score(X_train, y_train)\n",
    "        svm_test_score = gs.score(X_test, y_test)\n",
    "        \n",
    "        #get confusion matrix and classification metrics\n",
    "        y_pred = gs.predict(X_test)\n",
    "        cm = confusion_matrix(y_test, y_pred)\n",
    "        cm_df = pd.DataFrame(cm, columns=[\"pred datascience\",\"pred analytics\"], index=[\"actual datascience\",\"actual analytics\"])\n",
    "        \n",
    "        #print out accuracy, estimator and parameters from GridSearchCV\n",
    "        print(f'grid SVM best train score = {svm_train_score}')\n",
    "        print(f'grid SVM best test score = {svm_test_score}')\n",
    "        print(f'grid SVM best estimator = {gs.best_estimator_}')\n",
    "        print(f'grid SVM best parameters = {gs.best_params_}')    \n",
    "        #taken from datacamp tutorial: https://www.datacamp.com/community/tutorials/svm-classification-scikit-learn-python\n",
    "        print(\"SVM Accuracy - how often is model correct?:\",metrics.accuracy_score(y_test, y_pred))\n",
    "        print(\"SVM Precision - ability not to label as positive a sample that is negative:\",metrics.precision_score(y_test, y_pred))\n",
    "        print(\"SVM Sensitivity or Recall - ability to find all the positive samples.:\",metrics.recall_score(y_test, y_pred))\n",
    "        \n",
    "        return cm_df"
   ]
  },
  {
   "cell_type": "markdown",
   "metadata": {},
   "source": [
    "### Grid-Search Optimized MultiNomial Bayes Model on All Text (Title + Posts)"
   ]
  },
  {
   "cell_type": "code",
   "execution_count": 25,
   "metadata": {},
   "outputs": [
    {
     "name": "stdout",
     "output_type": "stream",
     "text": [
      "Fitting 3 folds for each of 15 candidates, totalling 45 fits\n"
     ]
    },
    {
     "name": "stderr",
     "output_type": "stream",
     "text": [
      "[Parallel(n_jobs=-1)]: Using backend LokyBackend with 8 concurrent workers.\n",
      "[Parallel(n_jobs=-1)]: Done  45 out of  45 | elapsed:    2.9s finished\n"
     ]
    },
    {
     "name": "stdout",
     "output_type": "stream",
     "text": [
      "grid bayes best train score = 0.9747081712062257\n",
      "grid bayes best test score = 0.8333333333333334\n",
      "grid bayes best estimator = Pipeline(memory=None,\n",
      "         steps=[('wordbag',\n",
      "                 TfidfVectorizer(analyzer='word', binary=False,\n",
      "                                 decode_error='strict',\n",
      "                                 dtype=<class 'numpy.float64'>,\n",
      "                                 encoding='utf-8', input='content',\n",
      "                                 lowercase=True, max_df=1.0, max_features=10000,\n",
      "                                 min_df=1, ngram_range=(1, 2), norm='l2',\n",
      "                                 preprocessor=None, smooth_idf=True,\n",
      "                                 stop_words=None, strip_accents=None,\n",
      "                                 sublinear_tf=False,\n",
      "                                 token_pattern='(?u)\\\\b\\\\w\\\\w+\\\\b',\n",
      "                                 tokenizer=None, use_idf=True,\n",
      "                                 vocabulary=None)),\n",
      "                ('classifier',\n",
      "                 MultinomialNB(alpha=1.0, class_prior=None, fit_prior=True))],\n",
      "         verbose=False)\n",
      "grid bayes best parameters = {'wordbag__max_features': 10000, 'wordbag__ngram_range': (1, 2)}\n",
      "MNB Accuracy - how often is model correct?: 0.8333333333333334\n",
      "MNB Precision - ability not to label as positive a sample that is negative: 0.8448275862068966\n",
      "MNB Sensitivity or Recall - ability to find all the positive samples.: 0.7967479674796748\n"
     ]
    },
    {
     "data": {
      "text/html": [
       "<div>\n",
       "<style scoped>\n",
       "    .dataframe tbody tr th:only-of-type {\n",
       "        vertical-align: middle;\n",
       "    }\n",
       "\n",
       "    .dataframe tbody tr th {\n",
       "        vertical-align: top;\n",
       "    }\n",
       "\n",
       "    .dataframe thead th {\n",
       "        text-align: right;\n",
       "    }\n",
       "</style>\n",
       "<table border=\"1\" class=\"dataframe\">\n",
       "  <thead>\n",
       "    <tr style=\"text-align: right;\">\n",
       "      <th></th>\n",
       "      <th>pred datascience</th>\n",
       "      <th>pred analytics</th>\n",
       "    </tr>\n",
       "  </thead>\n",
       "  <tbody>\n",
       "    <tr>\n",
       "      <th>actual datascience</th>\n",
       "      <td>117</td>\n",
       "      <td>18</td>\n",
       "    </tr>\n",
       "    <tr>\n",
       "      <th>actual analytics</th>\n",
       "      <td>25</td>\n",
       "      <td>98</td>\n",
       "    </tr>\n",
       "  </tbody>\n",
       "</table>\n",
       "</div>"
      ],
      "text/plain": [
       "                    pred datascience  pred analytics\n",
       "actual datascience               117              18\n",
       "actual analytics                  25              98"
      ]
     },
     "execution_count": 25,
     "metadata": {},
     "output_type": "execute_result"
    }
   ],
   "source": [
    "#We run our function for Grid-Search Optimizied Multinomial Bayes on Post and Title text:\n",
    "grid_modeller_scorer(\"all_words_clean\", 1)"
   ]
  },
  {
   "cell_type": "markdown",
   "metadata": {},
   "source": [
    "### Grid-Search Optimized MultiNomial Bayes Model on Title Text only\n",
    "\n",
    "We saw in our EDA that pretty unique keywords existed primarily in the title. Will that help our Bayesian model? Let's find out:"
   ]
  },
  {
   "cell_type": "code",
   "execution_count": 26,
   "metadata": {},
   "outputs": [
    {
     "name": "stdout",
     "output_type": "stream",
     "text": [
      "Fitting 3 folds for each of 15 candidates, totalling 45 fits\n"
     ]
    },
    {
     "name": "stderr",
     "output_type": "stream",
     "text": [
      "[Parallel(n_jobs=-1)]: Using backend LokyBackend with 8 concurrent workers.\n"
     ]
    },
    {
     "name": "stdout",
     "output_type": "stream",
     "text": [
      "grid bayes best train score = 0.9066147859922179\n",
      "grid bayes best test score = 0.7868217054263565\n",
      "grid bayes best estimator = Pipeline(memory=None,\n",
      "         steps=[('wordbag',\n",
      "                 TfidfVectorizer(analyzer='word', binary=False,\n",
      "                                 decode_error='strict',\n",
      "                                 dtype=<class 'numpy.float64'>,\n",
      "                                 encoding='utf-8', input='content',\n",
      "                                 lowercase=True, max_df=1.0, max_features=1000,\n",
      "                                 min_df=1, ngram_range=(1, 2), norm='l2',\n",
      "                                 preprocessor=None, smooth_idf=True,\n",
      "                                 stop_words=None, strip_accents=None,\n",
      "                                 sublinear_tf=False,\n",
      "                                 token_pattern='(?u)\\\\b\\\\w\\\\w+\\\\b',\n",
      "                                 tokenizer=None, use_idf=True,\n",
      "                                 vocabulary=None)),\n",
      "                ('classifier',\n",
      "                 MultinomialNB(alpha=1.0, class_prior=None, fit_prior=True))],\n",
      "         verbose=False)\n",
      "grid bayes best parameters = {'wordbag__max_features': 1000, 'wordbag__ngram_range': (1, 2)}\n",
      "MNB Accuracy - how often is model correct?: 0.7868217054263565\n",
      "MNB Precision - ability not to label as positive a sample that is negative: 0.7931034482758621\n",
      "MNB Sensitivity or Recall - ability to find all the positive samples.: 0.7479674796747967\n"
     ]
    },
    {
     "name": "stderr",
     "output_type": "stream",
     "text": [
      "[Parallel(n_jobs=-1)]: Done  30 out of  45 | elapsed:    0.2s remaining:    0.1s\n",
      "[Parallel(n_jobs=-1)]: Done  45 out of  45 | elapsed:    0.3s finished\n"
     ]
    },
    {
     "data": {
      "text/html": [
       "<div>\n",
       "<style scoped>\n",
       "    .dataframe tbody tr th:only-of-type {\n",
       "        vertical-align: middle;\n",
       "    }\n",
       "\n",
       "    .dataframe tbody tr th {\n",
       "        vertical-align: top;\n",
       "    }\n",
       "\n",
       "    .dataframe thead th {\n",
       "        text-align: right;\n",
       "    }\n",
       "</style>\n",
       "<table border=\"1\" class=\"dataframe\">\n",
       "  <thead>\n",
       "    <tr style=\"text-align: right;\">\n",
       "      <th></th>\n",
       "      <th>pred datascience</th>\n",
       "      <th>pred analytics</th>\n",
       "    </tr>\n",
       "  </thead>\n",
       "  <tbody>\n",
       "    <tr>\n",
       "      <th>actual datascience</th>\n",
       "      <td>111</td>\n",
       "      <td>24</td>\n",
       "    </tr>\n",
       "    <tr>\n",
       "      <th>actual analytics</th>\n",
       "      <td>31</td>\n",
       "      <td>92</td>\n",
       "    </tr>\n",
       "  </tbody>\n",
       "</table>\n",
       "</div>"
      ],
      "text/plain": [
       "                    pred datascience  pred analytics\n",
       "actual datascience               111              24\n",
       "actual analytics                  31              92"
      ]
     },
     "execution_count": 26,
     "metadata": {},
     "output_type": "execute_result"
    }
   ],
   "source": [
    "#Grid-Search Optimizied Multinomial Bayes on Title text only:\n",
    "grid_modeller_scorer(\"cleaned_title\", 1)"
   ]
  },
  {
   "cell_type": "markdown",
   "metadata": {},
   "source": [
    "### Grid-Search Optimized Support Vector Machine Modelling on All Text (Title + Posts)\n",
    "\n",
    "Let's now also run a giant function on All Text once again, but this time using Support Vector Machines:"
   ]
  },
  {
   "cell_type": "code",
   "execution_count": 27,
   "metadata": {},
   "outputs": [
    {
     "name": "stdout",
     "output_type": "stream",
     "text": [
      "Fitting 3 folds for each of 480 candidates, totalling 1440 fits\n"
     ]
    },
    {
     "name": "stderr",
     "output_type": "stream",
     "text": [
      "[Parallel(n_jobs=-1)]: Using backend LokyBackend with 8 concurrent workers.\n",
      "[Parallel(n_jobs=-1)]: Done  34 tasks      | elapsed:    1.6s\n",
      "[Parallel(n_jobs=-1)]: Done 184 tasks      | elapsed:    8.8s\n",
      "[Parallel(n_jobs=-1)]: Done 434 tasks      | elapsed:   21.3s\n",
      "[Parallel(n_jobs=-1)]: Done 784 tasks      | elapsed:   39.0s\n",
      "[Parallel(n_jobs=-1)]: Done 1234 tasks      | elapsed:  1.0min\n",
      "[Parallel(n_jobs=-1)]: Done 1440 out of 1440 | elapsed:  1.2min finished\n"
     ]
    },
    {
     "name": "stdout",
     "output_type": "stream",
     "text": [
      "grid SVM best train score = 0.9970817120622568\n",
      "grid SVM best test score = 0.8527131782945736\n",
      "grid SVM best estimator = Pipeline(memory=None,\n",
      "         steps=[('wordbag',\n",
      "                 TfidfVectorizer(analyzer='word', binary=False,\n",
      "                                 decode_error='strict',\n",
      "                                 dtype=<class 'numpy.float64'>,\n",
      "                                 encoding='utf-8', input='content',\n",
      "                                 lowercase=True, max_df=1.0, max_features=10000,\n",
      "                                 min_df=1, ngram_range=(1, 1), norm='l2',\n",
      "                                 preprocessor=None, smooth_idf=True,\n",
      "                                 stop_words=None, strip_accents=None,\n",
      "                                 sublinear_tf=False,\n",
      "                                 token_pattern='(?u)\\\\b\\\\w\\\\w+\\\\b',\n",
      "                                 tokenizer=None, use_idf=True,\n",
      "                                 vocabulary=None)),\n",
      "                ('classifier',\n",
      "                 SVC(C=1, break_ties=False, cache_size=200, class_weight=None,\n",
      "                     coef0=0.0, decision_function_shape='ovr', degree=3,\n",
      "                     gamma=1, kernel='rbf', max_iter=-1, probability=False,\n",
      "                     random_state=None, shrinking=True, tol=0.001,\n",
      "                     verbose=False))],\n",
      "         verbose=False)\n",
      "grid SVM best parameters = {'classifier__C': 1, 'classifier__gamma': 1, 'classifier__kernel': 'rbf', 'wordbag__max_features': 10000, 'wordbag__ngram_range': (1, 1)}\n",
      "SVM Accuracy - how often is model correct?: 0.8527131782945736\n",
      "SVM Precision - ability not to label as positive a sample that is negative: 0.8057553956834532\n",
      "SVM Sensitivity or Recall - ability to find all the positive samples.: 0.9105691056910569\n"
     ]
    },
    {
     "data": {
      "text/html": [
       "<div>\n",
       "<style scoped>\n",
       "    .dataframe tbody tr th:only-of-type {\n",
       "        vertical-align: middle;\n",
       "    }\n",
       "\n",
       "    .dataframe tbody tr th {\n",
       "        vertical-align: top;\n",
       "    }\n",
       "\n",
       "    .dataframe thead th {\n",
       "        text-align: right;\n",
       "    }\n",
       "</style>\n",
       "<table border=\"1\" class=\"dataframe\">\n",
       "  <thead>\n",
       "    <tr style=\"text-align: right;\">\n",
       "      <th></th>\n",
       "      <th>pred datascience</th>\n",
       "      <th>pred analytics</th>\n",
       "    </tr>\n",
       "  </thead>\n",
       "  <tbody>\n",
       "    <tr>\n",
       "      <th>actual datascience</th>\n",
       "      <td>108</td>\n",
       "      <td>27</td>\n",
       "    </tr>\n",
       "    <tr>\n",
       "      <th>actual analytics</th>\n",
       "      <td>11</td>\n",
       "      <td>112</td>\n",
       "    </tr>\n",
       "  </tbody>\n",
       "</table>\n",
       "</div>"
      ],
      "text/plain": [
       "                    pred datascience  pred analytics\n",
       "actual datascience               108              27\n",
       "actual analytics                  11             112"
      ]
     },
     "execution_count": 27,
     "metadata": {},
     "output_type": "execute_result"
    }
   ],
   "source": [
    "grid_modeller_scorer(\"all_words_clean\", 2)"
   ]
  },
  {
   "cell_type": "markdown",
   "metadata": {},
   "source": [
    "### Grid-Search Optimized Support Vector Machine Modelling on Title Text Only"
   ]
  },
  {
   "cell_type": "code",
   "execution_count": 28,
   "metadata": {},
   "outputs": [
    {
     "name": "stdout",
     "output_type": "stream",
     "text": [
      "Fitting 3 folds for each of 480 candidates, totalling 1440 fits\n"
     ]
    },
    {
     "name": "stderr",
     "output_type": "stream",
     "text": [
      "[Parallel(n_jobs=-1)]: Using backend LokyBackend with 8 concurrent workers.\n",
      "[Parallel(n_jobs=-1)]: Done  56 tasks      | elapsed:    0.6s\n",
      "[Parallel(n_jobs=-1)]: Done 656 tasks      | elapsed:    5.2s\n",
      "[Parallel(n_jobs=-1)]: Done 1440 out of 1440 | elapsed:   12.1s finished\n"
     ]
    },
    {
     "name": "stdout",
     "output_type": "stream",
     "text": [
      "grid SVM best train score = 0.9912451361867705\n",
      "grid SVM best test score = 0.7906976744186046\n",
      "grid SVM best estimator = Pipeline(memory=None,\n",
      "         steps=[('wordbag',\n",
      "                 TfidfVectorizer(analyzer='word', binary=False,\n",
      "                                 decode_error='strict',\n",
      "                                 dtype=<class 'numpy.float64'>,\n",
      "                                 encoding='utf-8', input='content',\n",
      "                                 lowercase=True, max_df=1.0, max_features=10000,\n",
      "                                 min_df=1, ngram_range=(1, 1), norm='l2',\n",
      "                                 preprocessor=None, smooth_idf=True,\n",
      "                                 stop_words=None, strip_accents=None,\n",
      "                                 sublinear_tf=False,\n",
      "                                 token_pattern='(?u)\\\\b\\\\w\\\\w+\\\\b',\n",
      "                                 tokenizer=None, use_idf=True,\n",
      "                                 vocabulary=None)),\n",
      "                ('classifier',\n",
      "                 SVC(C=1, break_ties=False, cache_size=200, class_weight=None,\n",
      "                     coef0=0.0, decision_function_shape='ovr', degree=3,\n",
      "                     gamma=1, kernel='rbf', max_iter=-1, probability=False,\n",
      "                     random_state=None, shrinking=True, tol=0.001,\n",
      "                     verbose=False))],\n",
      "         verbose=False)\n",
      "grid SVM best parameters = {'classifier__C': 1, 'classifier__gamma': 1, 'classifier__kernel': 'rbf', 'wordbag__max_features': 10000, 'wordbag__ngram_range': (1, 1)}\n",
      "SVM Accuracy - how often is model correct?: 0.7906976744186046\n",
      "SVM Precision - ability not to label as positive a sample that is negative: 0.7555555555555555\n",
      "SVM Sensitivity or Recall - ability to find all the positive samples.: 0.8292682926829268\n"
     ]
    },
    {
     "data": {
      "text/html": [
       "<div>\n",
       "<style scoped>\n",
       "    .dataframe tbody tr th:only-of-type {\n",
       "        vertical-align: middle;\n",
       "    }\n",
       "\n",
       "    .dataframe tbody tr th {\n",
       "        vertical-align: top;\n",
       "    }\n",
       "\n",
       "    .dataframe thead th {\n",
       "        text-align: right;\n",
       "    }\n",
       "</style>\n",
       "<table border=\"1\" class=\"dataframe\">\n",
       "  <thead>\n",
       "    <tr style=\"text-align: right;\">\n",
       "      <th></th>\n",
       "      <th>pred datascience</th>\n",
       "      <th>pred analytics</th>\n",
       "    </tr>\n",
       "  </thead>\n",
       "  <tbody>\n",
       "    <tr>\n",
       "      <th>actual datascience</th>\n",
       "      <td>102</td>\n",
       "      <td>33</td>\n",
       "    </tr>\n",
       "    <tr>\n",
       "      <th>actual analytics</th>\n",
       "      <td>21</td>\n",
       "      <td>102</td>\n",
       "    </tr>\n",
       "  </tbody>\n",
       "</table>\n",
       "</div>"
      ],
      "text/plain": [
       "                    pred datascience  pred analytics\n",
       "actual datascience               102              33\n",
       "actual analytics                  21             102"
      ]
     },
     "execution_count": 28,
     "metadata": {},
     "output_type": "execute_result"
    }
   ],
   "source": [
    "grid_modeller_scorer(\"cleaned_title\", 2)"
   ]
  },
  {
   "cell_type": "markdown",
   "metadata": {},
   "source": [
    "### Comparing Metrics Across All Models"
   ]
  },
  {
   "cell_type": "markdown",
   "metadata": {},
   "source": [
    "We'll quickly create a pandas dataframe of our modelling results. For the purposes of predicting whether a post is either from datascience or analytics, we will look at the following metrics:\n",
    "\n",
    "   1. **Train and Test Score Accuracy**: this simply tells us how close a value is to its true value. It's only concerned with the percentage of posts correctly predicted as coming from datascience or analytics.\n",
    "   \n",
    "   2. **Precision**: this talks about how precise/accurate our model is - out of those posts predicted as data science posts, how many of them are actually from data science and not analytics? Precision is a good measure to determine, when the costs of False Positive is important. \n",
    "   \n",
    "I argue that not just accuracy but **precision** also matters because too often, analytics is confused with data science. If we can have a better capability reducing false positivies, we prevent confusion of analytics posts with datascience posts. We can then obtain greater clarity not just in our evaluation of how good our model is, but in understanding the substantive keywords that separate the 2 concepts academically and professionally."
   ]
  },
  {
   "cell_type": "code",
   "execution_count": 21,
   "metadata": {},
   "outputs": [
    {
     "data": {
      "text/html": [
       "<div>\n",
       "<style scoped>\n",
       "    .dataframe tbody tr th:only-of-type {\n",
       "        vertical-align: middle;\n",
       "    }\n",
       "\n",
       "    .dataframe tbody tr th {\n",
       "        vertical-align: top;\n",
       "    }\n",
       "\n",
       "    .dataframe thead th {\n",
       "        text-align: right;\n",
       "    }\n",
       "</style>\n",
       "<table border=\"1\" class=\"dataframe\">\n",
       "  <thead>\n",
       "    <tr style=\"text-align: right;\">\n",
       "      <th></th>\n",
       "      <th>model</th>\n",
       "      <th>train accuracy</th>\n",
       "      <th>test accuracy</th>\n",
       "      <th>test error</th>\n",
       "      <th>precision</th>\n",
       "    </tr>\n",
       "  </thead>\n",
       "  <tbody>\n",
       "    <tr>\n",
       "      <th>0</th>\n",
       "      <td>TFIDF Multinomial Bayes - All Text</td>\n",
       "      <td>0.975</td>\n",
       "      <td>0.833</td>\n",
       "      <td>0.142</td>\n",
       "      <td>0.845</td>\n",
       "    </tr>\n",
       "    <tr>\n",
       "      <th>1</th>\n",
       "      <td>TFIDF Multinomial Bayes - Title Only</td>\n",
       "      <td>0.907</td>\n",
       "      <td>0.787</td>\n",
       "      <td>0.120</td>\n",
       "      <td>0.793</td>\n",
       "    </tr>\n",
       "    <tr>\n",
       "      <th>2</th>\n",
       "      <td>TFIDF SVM - All Text</td>\n",
       "      <td>0.997</td>\n",
       "      <td>0.853</td>\n",
       "      <td>0.144</td>\n",
       "      <td>0.806</td>\n",
       "    </tr>\n",
       "    <tr>\n",
       "      <th>3</th>\n",
       "      <td>TFIDF SVM - Title Only</td>\n",
       "      <td>0.991</td>\n",
       "      <td>0.791</td>\n",
       "      <td>0.200</td>\n",
       "      <td>0.756</td>\n",
       "    </tr>\n",
       "  </tbody>\n",
       "</table>\n",
       "</div>"
      ],
      "text/plain": [
       "                                  model  train accuracy  test accuracy  \\\n",
       "0    TFIDF Multinomial Bayes - All Text           0.975          0.833   \n",
       "1  TFIDF Multinomial Bayes - Title Only           0.907          0.787   \n",
       "2                  TFIDF SVM - All Text           0.997          0.853   \n",
       "3                TFIDF SVM - Title Only           0.991          0.791   \n",
       "\n",
       "   test error  precision  \n",
       "0       0.142      0.845  \n",
       "1       0.120      0.793  \n",
       "2       0.144      0.806  \n",
       "3       0.200      0.756  "
      ]
     },
     "execution_count": 21,
     "metadata": {},
     "output_type": "execute_result"
    }
   ],
   "source": [
    "# printing train score, test score, test error and precision \n",
    "model_name = [\"TFIDF Multinomial Bayes - All Text\", \"TFIDF Multinomial Bayes - Title Only\", \n",
    "              \"TFIDF SVM - All Text\", \"TFIDF SVM - Title Only\"]\n",
    "train = [0.975, 0.907, 0.997, 0.991] \n",
    "test = [0.833,0.787,0.853,0.791] \n",
    "\n",
    "#import operator module to allow for mathematical subtraction of lists: \n",
    "#https://stackoverflow.com/questions/23173294/how-to-mathematically-subtract-two-lists-in-python\n",
    "#https://docs.python.org/2/library/functions.html#map\n",
    "\n",
    "import operator\n",
    "\n",
    "test_error = list(map(operator.sub, train, test))\n",
    "precision = [0.845,0.793,0.806,0.756] \n",
    "\n",
    "\n",
    "# dictionary of lists  \n",
    "dict = {'model': model_name, 'train accuracy': train, 'test accuracy': test, 'test error':test_error, 'precision':precision}  \n",
    "    \n",
    "eval_df = pd.DataFrame(dict) \n",
    "    \n",
    "eval_df  "
   ]
  },
  {
   "cell_type": "markdown",
   "metadata": {},
   "source": [
    "Against our baseline score of `0.868`, the best performing models are SVM models, with train scores equally high at 0.991 for either title/all text features.\n",
    "\n",
    "**We see that the test error between train and test scores are between 0.12 to 0.2 despite Grid Searched Cross Validation. This implies that the majority of our models are overfit, except for Multinomial Bayes All Text. We can infer that high variance is difficult to reduce when one vectorizes out between 1000-10000 words and bigrams.**\n",
    "\n",
    "Although the All-Text SVM model is the most accurate train score at `0.997`, it has the second highest test error and precision is `0.806`, which is lower than All-Text Multinomial Bayes. Although All-Text MNB has slightly reduced accuracy, it makes up for this with lower test error at `0.142` and has the highest precision at `0.845`. In theory, this means that the model should be both accurate and utilize distinct keywords that will help us predict whether a post is talking about data science, and not analytics. \n",
    "\n",
    "Given our special focus on precision because of our problem statement's intention to dispel confusion between analytics vs data science, we will use `TFIDF Multinomial Bayes - All Text` as our **production model**. Accordingly, we're going to now visualize our top words using the parameters this model's TFIDFVectorizer was trained on. "
   ]
  },
  {
   "cell_type": "markdown",
   "metadata": {},
   "source": [
    "## Visualizing Top Words Used by our Production Model, TFIDF Multinomial Bayes - All Text"
   ]
  },
  {
   "cell_type": "markdown",
   "metadata": {},
   "source": [
    "We will recycle our painstakingly crafted visualization functions from our previous notebook to create treemap and bar chart plots to visualize top `/r/datascience` words below:"
   ]
  },
  {
   "cell_type": "code",
   "execution_count": 22,
   "metadata": {},
   "outputs": [],
   "source": [
    "#Assign data science posts to extract top words \n",
    "all_text = df[\"cleaned_text\"]\n",
    "\n",
    "#instantiate another TFIDFVectorizer that now uses parameters of production model divined earlier \n",
    "#from our \"best features\" output\n",
    "vectorizer =TfidfVectorizer(max_features=10000, ngram_range=(1, 2))"
   ]
  },
  {
   "cell_type": "code",
   "execution_count": 20,
   "metadata": {},
   "outputs": [],
   "source": [
    "#turn a series into vectors and then plot the distribution of the top 25 words\n",
    "\n",
    "def vector_barplotter(series, graph_title, x_label):\n",
    "    vectorized_series = vectorizer.fit(series)\n",
    "    series_df = pd.DataFrame(vectorizer.transform(series).todense(),\n",
    "                              columns=vectorizer.get_feature_names())\n",
    "    #we slice the top 25 words \n",
    "    top_25_words=series_df.sum().sort_values(ascending = False).head(25)\n",
    "    \n",
    "    #we plot this on a plotly bar chart by frequency of words.\n",
    "    fig = px.bar(top_25_words, orientation='v', title = graph_title, \n",
    "             labels={\"index\":x_label})\n",
    "    fig.show()"
   ]
  },
  {
   "cell_type": "code",
   "execution_count": 21,
   "metadata": {},
   "outputs": [],
   "source": [
    "#to plot a square word treemap, I have to modify our datascience word array into a special dataframe; \n",
    "#Adapted from https://python-graph-gallery.com/200-basic-treemap-with-python/\n",
    "#We plot a square treemap of word frequencies, as an alternative to word clouds\n",
    "#to save time I turned this into a function too.\n",
    "\n",
    "def vector_treemap_plotter(series, graph_title):\n",
    "    vectorized_series = vectorizer.fit(series)\n",
    "    series_df = pd.DataFrame(vectorizer.transform(series).todense(),\n",
    "                              columns=vectorizer.get_feature_names())\n",
    "    #we slice the top 25 words and turn that into a squarify-friendly dataframe\n",
    "    top_25_words=series_df.sum().sort_values(ascending = False).head(25)\n",
    "    top_25_words_df = pd.DataFrame(top_25_words)\n",
    "    top_25_words_df.columns = [\"count\"]\n",
    "    top_25_words_df[\"word\"]=top_25_words_df.index\n",
    "    top_25_words_df = top_25_words_df.reset_index(drop=True)\n",
    "    \n",
    "    count = top_25_words_df[\"count\"]\n",
    "    word = top_25_words_df[\"word\"]\n",
    "    \n",
    "    #I then create a hybrid heatmap and treemap\n",
    "    #it is like a word cloud, but it looks cleaner.\n",
    "    #frequent words are deeper blues with bigger squares.\n",
    "\n",
    "    cmap = matplotlib.cm.Blues\n",
    "    mini=min(count)\n",
    "    maxi=max(count)\n",
    "    norm = matplotlib.colors.Normalize(vmin=mini, vmax=maxi)\n",
    "    colors = [cmap(norm(value)) for value in count]\n",
    "\n",
    "    squarify.plot(sizes=count, norm_x=100, norm_y=100, label=word, \n",
    "                  color=colors,alpha=.9 )\n",
    "    \n",
    "    plt.axis('off')\n",
    "    plt.show()\n",
    "    \n",
    "    print(graph_title)"
   ]
  },
  {
   "cell_type": "code",
   "execution_count": 25,
   "metadata": {},
   "outputs": [
    {
     "data": {
      "application/vnd.plotly.v1+json": {
       "config": {
        "plotlyServerURL": "https://plot.ly"
       },
       "data": [
        {
         "alignmentgroup": "True",
         "hovertemplate": "variable=0<br>words=%{x}<br>value=%{y}<extra></extra>",
         "legendgroup": "0",
         "marker": {
          "color": "#636efa"
         },
         "name": "0",
         "offsetgroup": "0",
         "orientation": "v",
         "showlegend": true,
         "textposition": "auto",
         "type": "bar",
         "x": [
          "none",
          "data",
          "analytics",
          "would",
          "like",
          "science",
          "work",
          "know",
          "data science",
          "google",
          "time",
          "job",
          "company",
          "get",
          "use",
          "business",
          "anyone",
          "one",
          "want",
          "amp",
          "looking",
          "http",
          "analyst",
          "thanks",
          "model"
         ],
         "xaxis": "x",
         "y": [
          100.6163218824627,
          54.562811989103565,
          31.119166499425862,
          25.2466238653899,
          22.756795565799536,
          21.14975546782197,
          20.375590990382587,
          19.813409118777873,
          19.742183095412148,
          19.732754813176197,
          18.87442760225757,
          18.77354917763174,
          17.958004409213974,
          17.80377718276171,
          17.22982296674339,
          16.501902122851977,
          16.22803538996699,
          15.931725914450032,
          15.82103214423476,
          15.50236117584418,
          15.171025859638561,
          14.80536659755303,
          14.276779684370913,
          14.042430408591834,
          13.959477011050003
         ],
         "yaxis": "y"
        }
       ],
       "layout": {
        "barmode": "relative",
        "legend": {
         "title": {
          "text": "variable"
         },
         "tracegroupgap": 0
        },
        "template": {
         "data": {
          "bar": [
           {
            "error_x": {
             "color": "#2a3f5f"
            },
            "error_y": {
             "color": "#2a3f5f"
            },
            "marker": {
             "line": {
              "color": "#E5ECF6",
              "width": 0.5
             }
            },
            "type": "bar"
           }
          ],
          "barpolar": [
           {
            "marker": {
             "line": {
              "color": "#E5ECF6",
              "width": 0.5
             }
            },
            "type": "barpolar"
           }
          ],
          "carpet": [
           {
            "aaxis": {
             "endlinecolor": "#2a3f5f",
             "gridcolor": "white",
             "linecolor": "white",
             "minorgridcolor": "white",
             "startlinecolor": "#2a3f5f"
            },
            "baxis": {
             "endlinecolor": "#2a3f5f",
             "gridcolor": "white",
             "linecolor": "white",
             "minorgridcolor": "white",
             "startlinecolor": "#2a3f5f"
            },
            "type": "carpet"
           }
          ],
          "choropleth": [
           {
            "colorbar": {
             "outlinewidth": 0,
             "ticks": ""
            },
            "type": "choropleth"
           }
          ],
          "contour": [
           {
            "colorbar": {
             "outlinewidth": 0,
             "ticks": ""
            },
            "colorscale": [
             [
              0,
              "#0d0887"
             ],
             [
              0.1111111111111111,
              "#46039f"
             ],
             [
              0.2222222222222222,
              "#7201a8"
             ],
             [
              0.3333333333333333,
              "#9c179e"
             ],
             [
              0.4444444444444444,
              "#bd3786"
             ],
             [
              0.5555555555555556,
              "#d8576b"
             ],
             [
              0.6666666666666666,
              "#ed7953"
             ],
             [
              0.7777777777777778,
              "#fb9f3a"
             ],
             [
              0.8888888888888888,
              "#fdca26"
             ],
             [
              1,
              "#f0f921"
             ]
            ],
            "type": "contour"
           }
          ],
          "contourcarpet": [
           {
            "colorbar": {
             "outlinewidth": 0,
             "ticks": ""
            },
            "type": "contourcarpet"
           }
          ],
          "heatmap": [
           {
            "colorbar": {
             "outlinewidth": 0,
             "ticks": ""
            },
            "colorscale": [
             [
              0,
              "#0d0887"
             ],
             [
              0.1111111111111111,
              "#46039f"
             ],
             [
              0.2222222222222222,
              "#7201a8"
             ],
             [
              0.3333333333333333,
              "#9c179e"
             ],
             [
              0.4444444444444444,
              "#bd3786"
             ],
             [
              0.5555555555555556,
              "#d8576b"
             ],
             [
              0.6666666666666666,
              "#ed7953"
             ],
             [
              0.7777777777777778,
              "#fb9f3a"
             ],
             [
              0.8888888888888888,
              "#fdca26"
             ],
             [
              1,
              "#f0f921"
             ]
            ],
            "type": "heatmap"
           }
          ],
          "heatmapgl": [
           {
            "colorbar": {
             "outlinewidth": 0,
             "ticks": ""
            },
            "colorscale": [
             [
              0,
              "#0d0887"
             ],
             [
              0.1111111111111111,
              "#46039f"
             ],
             [
              0.2222222222222222,
              "#7201a8"
             ],
             [
              0.3333333333333333,
              "#9c179e"
             ],
             [
              0.4444444444444444,
              "#bd3786"
             ],
             [
              0.5555555555555556,
              "#d8576b"
             ],
             [
              0.6666666666666666,
              "#ed7953"
             ],
             [
              0.7777777777777778,
              "#fb9f3a"
             ],
             [
              0.8888888888888888,
              "#fdca26"
             ],
             [
              1,
              "#f0f921"
             ]
            ],
            "type": "heatmapgl"
           }
          ],
          "histogram": [
           {
            "marker": {
             "colorbar": {
              "outlinewidth": 0,
              "ticks": ""
             }
            },
            "type": "histogram"
           }
          ],
          "histogram2d": [
           {
            "colorbar": {
             "outlinewidth": 0,
             "ticks": ""
            },
            "colorscale": [
             [
              0,
              "#0d0887"
             ],
             [
              0.1111111111111111,
              "#46039f"
             ],
             [
              0.2222222222222222,
              "#7201a8"
             ],
             [
              0.3333333333333333,
              "#9c179e"
             ],
             [
              0.4444444444444444,
              "#bd3786"
             ],
             [
              0.5555555555555556,
              "#d8576b"
             ],
             [
              0.6666666666666666,
              "#ed7953"
             ],
             [
              0.7777777777777778,
              "#fb9f3a"
             ],
             [
              0.8888888888888888,
              "#fdca26"
             ],
             [
              1,
              "#f0f921"
             ]
            ],
            "type": "histogram2d"
           }
          ],
          "histogram2dcontour": [
           {
            "colorbar": {
             "outlinewidth": 0,
             "ticks": ""
            },
            "colorscale": [
             [
              0,
              "#0d0887"
             ],
             [
              0.1111111111111111,
              "#46039f"
             ],
             [
              0.2222222222222222,
              "#7201a8"
             ],
             [
              0.3333333333333333,
              "#9c179e"
             ],
             [
              0.4444444444444444,
              "#bd3786"
             ],
             [
              0.5555555555555556,
              "#d8576b"
             ],
             [
              0.6666666666666666,
              "#ed7953"
             ],
             [
              0.7777777777777778,
              "#fb9f3a"
             ],
             [
              0.8888888888888888,
              "#fdca26"
             ],
             [
              1,
              "#f0f921"
             ]
            ],
            "type": "histogram2dcontour"
           }
          ],
          "mesh3d": [
           {
            "colorbar": {
             "outlinewidth": 0,
             "ticks": ""
            },
            "type": "mesh3d"
           }
          ],
          "parcoords": [
           {
            "line": {
             "colorbar": {
              "outlinewidth": 0,
              "ticks": ""
             }
            },
            "type": "parcoords"
           }
          ],
          "pie": [
           {
            "automargin": true,
            "type": "pie"
           }
          ],
          "scatter": [
           {
            "marker": {
             "colorbar": {
              "outlinewidth": 0,
              "ticks": ""
             }
            },
            "type": "scatter"
           }
          ],
          "scatter3d": [
           {
            "line": {
             "colorbar": {
              "outlinewidth": 0,
              "ticks": ""
             }
            },
            "marker": {
             "colorbar": {
              "outlinewidth": 0,
              "ticks": ""
             }
            },
            "type": "scatter3d"
           }
          ],
          "scattercarpet": [
           {
            "marker": {
             "colorbar": {
              "outlinewidth": 0,
              "ticks": ""
             }
            },
            "type": "scattercarpet"
           }
          ],
          "scattergeo": [
           {
            "marker": {
             "colorbar": {
              "outlinewidth": 0,
              "ticks": ""
             }
            },
            "type": "scattergeo"
           }
          ],
          "scattergl": [
           {
            "marker": {
             "colorbar": {
              "outlinewidth": 0,
              "ticks": ""
             }
            },
            "type": "scattergl"
           }
          ],
          "scattermapbox": [
           {
            "marker": {
             "colorbar": {
              "outlinewidth": 0,
              "ticks": ""
             }
            },
            "type": "scattermapbox"
           }
          ],
          "scatterpolar": [
           {
            "marker": {
             "colorbar": {
              "outlinewidth": 0,
              "ticks": ""
             }
            },
            "type": "scatterpolar"
           }
          ],
          "scatterpolargl": [
           {
            "marker": {
             "colorbar": {
              "outlinewidth": 0,
              "ticks": ""
             }
            },
            "type": "scatterpolargl"
           }
          ],
          "scatterternary": [
           {
            "marker": {
             "colorbar": {
              "outlinewidth": 0,
              "ticks": ""
             }
            },
            "type": "scatterternary"
           }
          ],
          "surface": [
           {
            "colorbar": {
             "outlinewidth": 0,
             "ticks": ""
            },
            "colorscale": [
             [
              0,
              "#0d0887"
             ],
             [
              0.1111111111111111,
              "#46039f"
             ],
             [
              0.2222222222222222,
              "#7201a8"
             ],
             [
              0.3333333333333333,
              "#9c179e"
             ],
             [
              0.4444444444444444,
              "#bd3786"
             ],
             [
              0.5555555555555556,
              "#d8576b"
             ],
             [
              0.6666666666666666,
              "#ed7953"
             ],
             [
              0.7777777777777778,
              "#fb9f3a"
             ],
             [
              0.8888888888888888,
              "#fdca26"
             ],
             [
              1,
              "#f0f921"
             ]
            ],
            "type": "surface"
           }
          ],
          "table": [
           {
            "cells": {
             "fill": {
              "color": "#EBF0F8"
             },
             "line": {
              "color": "white"
             }
            },
            "header": {
             "fill": {
              "color": "#C8D4E3"
             },
             "line": {
              "color": "white"
             }
            },
            "type": "table"
           }
          ]
         },
         "layout": {
          "annotationdefaults": {
           "arrowcolor": "#2a3f5f",
           "arrowhead": 0,
           "arrowwidth": 1
          },
          "coloraxis": {
           "colorbar": {
            "outlinewidth": 0,
            "ticks": ""
           }
          },
          "colorscale": {
           "diverging": [
            [
             0,
             "#8e0152"
            ],
            [
             0.1,
             "#c51b7d"
            ],
            [
             0.2,
             "#de77ae"
            ],
            [
             0.3,
             "#f1b6da"
            ],
            [
             0.4,
             "#fde0ef"
            ],
            [
             0.5,
             "#f7f7f7"
            ],
            [
             0.6,
             "#e6f5d0"
            ],
            [
             0.7,
             "#b8e186"
            ],
            [
             0.8,
             "#7fbc41"
            ],
            [
             0.9,
             "#4d9221"
            ],
            [
             1,
             "#276419"
            ]
           ],
           "sequential": [
            [
             0,
             "#0d0887"
            ],
            [
             0.1111111111111111,
             "#46039f"
            ],
            [
             0.2222222222222222,
             "#7201a8"
            ],
            [
             0.3333333333333333,
             "#9c179e"
            ],
            [
             0.4444444444444444,
             "#bd3786"
            ],
            [
             0.5555555555555556,
             "#d8576b"
            ],
            [
             0.6666666666666666,
             "#ed7953"
            ],
            [
             0.7777777777777778,
             "#fb9f3a"
            ],
            [
             0.8888888888888888,
             "#fdca26"
            ],
            [
             1,
             "#f0f921"
            ]
           ],
           "sequentialminus": [
            [
             0,
             "#0d0887"
            ],
            [
             0.1111111111111111,
             "#46039f"
            ],
            [
             0.2222222222222222,
             "#7201a8"
            ],
            [
             0.3333333333333333,
             "#9c179e"
            ],
            [
             0.4444444444444444,
             "#bd3786"
            ],
            [
             0.5555555555555556,
             "#d8576b"
            ],
            [
             0.6666666666666666,
             "#ed7953"
            ],
            [
             0.7777777777777778,
             "#fb9f3a"
            ],
            [
             0.8888888888888888,
             "#fdca26"
            ],
            [
             1,
             "#f0f921"
            ]
           ]
          },
          "colorway": [
           "#636efa",
           "#EF553B",
           "#00cc96",
           "#ab63fa",
           "#FFA15A",
           "#19d3f3",
           "#FF6692",
           "#B6E880",
           "#FF97FF",
           "#FECB52"
          ],
          "font": {
           "color": "#2a3f5f"
          },
          "geo": {
           "bgcolor": "white",
           "lakecolor": "white",
           "landcolor": "#E5ECF6",
           "showlakes": true,
           "showland": true,
           "subunitcolor": "white"
          },
          "hoverlabel": {
           "align": "left"
          },
          "hovermode": "closest",
          "mapbox": {
           "style": "light"
          },
          "paper_bgcolor": "white",
          "plot_bgcolor": "#E5ECF6",
          "polar": {
           "angularaxis": {
            "gridcolor": "white",
            "linecolor": "white",
            "ticks": ""
           },
           "bgcolor": "#E5ECF6",
           "radialaxis": {
            "gridcolor": "white",
            "linecolor": "white",
            "ticks": ""
           }
          },
          "scene": {
           "xaxis": {
            "backgroundcolor": "#E5ECF6",
            "gridcolor": "white",
            "gridwidth": 2,
            "linecolor": "white",
            "showbackground": true,
            "ticks": "",
            "zerolinecolor": "white"
           },
           "yaxis": {
            "backgroundcolor": "#E5ECF6",
            "gridcolor": "white",
            "gridwidth": 2,
            "linecolor": "white",
            "showbackground": true,
            "ticks": "",
            "zerolinecolor": "white"
           },
           "zaxis": {
            "backgroundcolor": "#E5ECF6",
            "gridcolor": "white",
            "gridwidth": 2,
            "linecolor": "white",
            "showbackground": true,
            "ticks": "",
            "zerolinecolor": "white"
           }
          },
          "shapedefaults": {
           "line": {
            "color": "#2a3f5f"
           }
          },
          "ternary": {
           "aaxis": {
            "gridcolor": "white",
            "linecolor": "white",
            "ticks": ""
           },
           "baxis": {
            "gridcolor": "white",
            "linecolor": "white",
            "ticks": ""
           },
           "bgcolor": "#E5ECF6",
           "caxis": {
            "gridcolor": "white",
            "linecolor": "white",
            "ticks": ""
           }
          },
          "title": {
           "x": 0.05
          },
          "xaxis": {
           "automargin": true,
           "gridcolor": "white",
           "linecolor": "white",
           "ticks": "",
           "title": {
            "standoff": 15
           },
           "zerolinecolor": "white",
           "zerolinewidth": 2
          },
          "yaxis": {
           "automargin": true,
           "gridcolor": "white",
           "linecolor": "white",
           "ticks": "",
           "title": {
            "standoff": 15
           },
           "zerolinecolor": "white",
           "zerolinewidth": 2
          }
         }
        },
        "title": {
         "text": "Top Words used by Production Model to Identify /r/datascience Posts and Titles"
        },
        "xaxis": {
         "anchor": "y",
         "domain": [
          0,
          1
         ],
         "title": {
          "text": "words"
         }
        },
        "yaxis": {
         "anchor": "x",
         "domain": [
          0,
          1
         ],
         "title": {
          "text": "value"
         }
        }
       }
      },
      "text/html": [
       "<div>\n",
       "        \n",
       "        \n",
       "            <div id=\"be241ae6-5b56-469b-b06a-3a076a43588f\" class=\"plotly-graph-div\" style=\"height:525px; width:100%;\"></div>\n",
       "            <script type=\"text/javascript\">\n",
       "                require([\"plotly\"], function(Plotly) {\n",
       "                    window.PLOTLYENV=window.PLOTLYENV || {};\n",
       "                    \n",
       "                if (document.getElementById(\"be241ae6-5b56-469b-b06a-3a076a43588f\")) {\n",
       "                    Plotly.newPlot(\n",
       "                        'be241ae6-5b56-469b-b06a-3a076a43588f',\n",
       "                        [{\"alignmentgroup\": \"True\", \"hovertemplate\": \"variable=0<br>words=%{x}<br>value=%{y}<extra></extra>\", \"legendgroup\": \"0\", \"marker\": {\"color\": \"#636efa\"}, \"name\": \"0\", \"offsetgroup\": \"0\", \"orientation\": \"v\", \"showlegend\": true, \"textposition\": \"auto\", \"type\": \"bar\", \"x\": [\"none\", \"data\", \"analytics\", \"would\", \"like\", \"science\", \"work\", \"know\", \"data science\", \"google\", \"time\", \"job\", \"company\", \"get\", \"use\", \"business\", \"anyone\", \"one\", \"want\", \"amp\", \"looking\", \"http\", \"analyst\", \"thanks\", \"model\"], \"xaxis\": \"x\", \"y\": [100.6163218824627, 54.562811989103565, 31.119166499425862, 25.2466238653899, 22.756795565799536, 21.14975546782197, 20.375590990382587, 19.813409118777873, 19.742183095412148, 19.732754813176197, 18.87442760225757, 18.77354917763174, 17.958004409213974, 17.80377718276171, 17.22982296674339, 16.501902122851977, 16.22803538996699, 15.931725914450032, 15.82103214423476, 15.50236117584418, 15.171025859638561, 14.80536659755303, 14.276779684370913, 14.042430408591834, 13.959477011050003], \"yaxis\": \"y\"}],\n",
       "                        {\"barmode\": \"relative\", \"legend\": {\"title\": {\"text\": \"variable\"}, \"tracegroupgap\": 0}, \"template\": {\"data\": {\"bar\": [{\"error_x\": {\"color\": \"#2a3f5f\"}, \"error_y\": {\"color\": \"#2a3f5f\"}, \"marker\": {\"line\": {\"color\": \"#E5ECF6\", \"width\": 0.5}}, \"type\": \"bar\"}], \"barpolar\": [{\"marker\": {\"line\": {\"color\": \"#E5ECF6\", \"width\": 0.5}}, \"type\": \"barpolar\"}], \"carpet\": [{\"aaxis\": {\"endlinecolor\": \"#2a3f5f\", \"gridcolor\": \"white\", \"linecolor\": \"white\", \"minorgridcolor\": \"white\", \"startlinecolor\": \"#2a3f5f\"}, \"baxis\": {\"endlinecolor\": \"#2a3f5f\", \"gridcolor\": \"white\", \"linecolor\": \"white\", \"minorgridcolor\": \"white\", \"startlinecolor\": \"#2a3f5f\"}, \"type\": \"carpet\"}], \"choropleth\": [{\"colorbar\": {\"outlinewidth\": 0, \"ticks\": \"\"}, \"type\": \"choropleth\"}], \"contour\": [{\"colorbar\": {\"outlinewidth\": 0, \"ticks\": \"\"}, \"colorscale\": [[0.0, \"#0d0887\"], [0.1111111111111111, \"#46039f\"], [0.2222222222222222, \"#7201a8\"], [0.3333333333333333, \"#9c179e\"], [0.4444444444444444, \"#bd3786\"], [0.5555555555555556, \"#d8576b\"], [0.6666666666666666, \"#ed7953\"], [0.7777777777777778, \"#fb9f3a\"], [0.8888888888888888, \"#fdca26\"], [1.0, \"#f0f921\"]], \"type\": \"contour\"}], \"contourcarpet\": [{\"colorbar\": {\"outlinewidth\": 0, \"ticks\": \"\"}, \"type\": \"contourcarpet\"}], \"heatmap\": [{\"colorbar\": {\"outlinewidth\": 0, \"ticks\": \"\"}, \"colorscale\": [[0.0, \"#0d0887\"], [0.1111111111111111, \"#46039f\"], [0.2222222222222222, \"#7201a8\"], [0.3333333333333333, \"#9c179e\"], [0.4444444444444444, \"#bd3786\"], [0.5555555555555556, \"#d8576b\"], [0.6666666666666666, \"#ed7953\"], [0.7777777777777778, \"#fb9f3a\"], [0.8888888888888888, \"#fdca26\"], [1.0, \"#f0f921\"]], \"type\": \"heatmap\"}], \"heatmapgl\": [{\"colorbar\": {\"outlinewidth\": 0, \"ticks\": \"\"}, \"colorscale\": [[0.0, \"#0d0887\"], [0.1111111111111111, \"#46039f\"], [0.2222222222222222, \"#7201a8\"], [0.3333333333333333, \"#9c179e\"], [0.4444444444444444, \"#bd3786\"], [0.5555555555555556, \"#d8576b\"], [0.6666666666666666, \"#ed7953\"], [0.7777777777777778, \"#fb9f3a\"], [0.8888888888888888, \"#fdca26\"], [1.0, \"#f0f921\"]], \"type\": \"heatmapgl\"}], \"histogram\": [{\"marker\": {\"colorbar\": {\"outlinewidth\": 0, \"ticks\": \"\"}}, \"type\": \"histogram\"}], \"histogram2d\": [{\"colorbar\": {\"outlinewidth\": 0, \"ticks\": \"\"}, \"colorscale\": [[0.0, \"#0d0887\"], [0.1111111111111111, \"#46039f\"], [0.2222222222222222, \"#7201a8\"], [0.3333333333333333, \"#9c179e\"], [0.4444444444444444, \"#bd3786\"], [0.5555555555555556, \"#d8576b\"], [0.6666666666666666, \"#ed7953\"], [0.7777777777777778, \"#fb9f3a\"], [0.8888888888888888, \"#fdca26\"], [1.0, \"#f0f921\"]], \"type\": \"histogram2d\"}], \"histogram2dcontour\": [{\"colorbar\": {\"outlinewidth\": 0, \"ticks\": \"\"}, \"colorscale\": [[0.0, \"#0d0887\"], [0.1111111111111111, \"#46039f\"], [0.2222222222222222, \"#7201a8\"], [0.3333333333333333, \"#9c179e\"], [0.4444444444444444, \"#bd3786\"], [0.5555555555555556, \"#d8576b\"], [0.6666666666666666, \"#ed7953\"], [0.7777777777777778, \"#fb9f3a\"], [0.8888888888888888, \"#fdca26\"], [1.0, \"#f0f921\"]], \"type\": \"histogram2dcontour\"}], \"mesh3d\": [{\"colorbar\": {\"outlinewidth\": 0, \"ticks\": \"\"}, \"type\": \"mesh3d\"}], \"parcoords\": [{\"line\": {\"colorbar\": {\"outlinewidth\": 0, \"ticks\": \"\"}}, \"type\": \"parcoords\"}], \"pie\": [{\"automargin\": true, \"type\": \"pie\"}], \"scatter\": [{\"marker\": {\"colorbar\": {\"outlinewidth\": 0, \"ticks\": \"\"}}, \"type\": \"scatter\"}], \"scatter3d\": [{\"line\": {\"colorbar\": {\"outlinewidth\": 0, \"ticks\": \"\"}}, \"marker\": {\"colorbar\": {\"outlinewidth\": 0, \"ticks\": \"\"}}, \"type\": \"scatter3d\"}], \"scattercarpet\": [{\"marker\": {\"colorbar\": {\"outlinewidth\": 0, \"ticks\": \"\"}}, \"type\": \"scattercarpet\"}], \"scattergeo\": [{\"marker\": {\"colorbar\": {\"outlinewidth\": 0, \"ticks\": \"\"}}, \"type\": \"scattergeo\"}], \"scattergl\": [{\"marker\": {\"colorbar\": {\"outlinewidth\": 0, \"ticks\": \"\"}}, \"type\": \"scattergl\"}], \"scattermapbox\": [{\"marker\": {\"colorbar\": {\"outlinewidth\": 0, \"ticks\": \"\"}}, \"type\": \"scattermapbox\"}], \"scatterpolar\": [{\"marker\": {\"colorbar\": {\"outlinewidth\": 0, \"ticks\": \"\"}}, \"type\": \"scatterpolar\"}], \"scatterpolargl\": [{\"marker\": {\"colorbar\": {\"outlinewidth\": 0, \"ticks\": \"\"}}, \"type\": \"scatterpolargl\"}], \"scatterternary\": [{\"marker\": {\"colorbar\": {\"outlinewidth\": 0, \"ticks\": \"\"}}, \"type\": \"scatterternary\"}], \"surface\": [{\"colorbar\": {\"outlinewidth\": 0, \"ticks\": \"\"}, \"colorscale\": [[0.0, \"#0d0887\"], [0.1111111111111111, \"#46039f\"], [0.2222222222222222, \"#7201a8\"], [0.3333333333333333, \"#9c179e\"], [0.4444444444444444, \"#bd3786\"], [0.5555555555555556, \"#d8576b\"], [0.6666666666666666, \"#ed7953\"], [0.7777777777777778, \"#fb9f3a\"], [0.8888888888888888, \"#fdca26\"], [1.0, \"#f0f921\"]], \"type\": \"surface\"}], \"table\": [{\"cells\": {\"fill\": {\"color\": \"#EBF0F8\"}, \"line\": {\"color\": \"white\"}}, \"header\": {\"fill\": {\"color\": \"#C8D4E3\"}, \"line\": {\"color\": \"white\"}}, \"type\": \"table\"}]}, \"layout\": {\"annotationdefaults\": {\"arrowcolor\": \"#2a3f5f\", \"arrowhead\": 0, \"arrowwidth\": 1}, \"coloraxis\": {\"colorbar\": {\"outlinewidth\": 0, \"ticks\": \"\"}}, \"colorscale\": {\"diverging\": [[0, \"#8e0152\"], [0.1, \"#c51b7d\"], [0.2, \"#de77ae\"], [0.3, \"#f1b6da\"], [0.4, \"#fde0ef\"], [0.5, \"#f7f7f7\"], [0.6, \"#e6f5d0\"], [0.7, \"#b8e186\"], [0.8, \"#7fbc41\"], [0.9, \"#4d9221\"], [1, \"#276419\"]], \"sequential\": [[0.0, \"#0d0887\"], [0.1111111111111111, \"#46039f\"], [0.2222222222222222, \"#7201a8\"], [0.3333333333333333, \"#9c179e\"], [0.4444444444444444, \"#bd3786\"], [0.5555555555555556, \"#d8576b\"], [0.6666666666666666, \"#ed7953\"], [0.7777777777777778, \"#fb9f3a\"], [0.8888888888888888, \"#fdca26\"], [1.0, \"#f0f921\"]], \"sequentialminus\": [[0.0, \"#0d0887\"], [0.1111111111111111, \"#46039f\"], [0.2222222222222222, \"#7201a8\"], [0.3333333333333333, \"#9c179e\"], [0.4444444444444444, \"#bd3786\"], [0.5555555555555556, \"#d8576b\"], [0.6666666666666666, \"#ed7953\"], [0.7777777777777778, \"#fb9f3a\"], [0.8888888888888888, \"#fdca26\"], [1.0, \"#f0f921\"]]}, \"colorway\": [\"#636efa\", \"#EF553B\", \"#00cc96\", \"#ab63fa\", \"#FFA15A\", \"#19d3f3\", \"#FF6692\", \"#B6E880\", \"#FF97FF\", \"#FECB52\"], \"font\": {\"color\": \"#2a3f5f\"}, \"geo\": {\"bgcolor\": \"white\", \"lakecolor\": \"white\", \"landcolor\": \"#E5ECF6\", \"showlakes\": true, \"showland\": true, \"subunitcolor\": \"white\"}, \"hoverlabel\": {\"align\": \"left\"}, \"hovermode\": \"closest\", \"mapbox\": {\"style\": \"light\"}, \"paper_bgcolor\": \"white\", \"plot_bgcolor\": \"#E5ECF6\", \"polar\": {\"angularaxis\": {\"gridcolor\": \"white\", \"linecolor\": \"white\", \"ticks\": \"\"}, \"bgcolor\": \"#E5ECF6\", \"radialaxis\": {\"gridcolor\": \"white\", \"linecolor\": \"white\", \"ticks\": \"\"}}, \"scene\": {\"xaxis\": {\"backgroundcolor\": \"#E5ECF6\", \"gridcolor\": \"white\", \"gridwidth\": 2, \"linecolor\": \"white\", \"showbackground\": true, \"ticks\": \"\", \"zerolinecolor\": \"white\"}, \"yaxis\": {\"backgroundcolor\": \"#E5ECF6\", \"gridcolor\": \"white\", \"gridwidth\": 2, \"linecolor\": \"white\", \"showbackground\": true, \"ticks\": \"\", \"zerolinecolor\": \"white\"}, \"zaxis\": {\"backgroundcolor\": \"#E5ECF6\", \"gridcolor\": \"white\", \"gridwidth\": 2, \"linecolor\": \"white\", \"showbackground\": true, \"ticks\": \"\", \"zerolinecolor\": \"white\"}}, \"shapedefaults\": {\"line\": {\"color\": \"#2a3f5f\"}}, \"ternary\": {\"aaxis\": {\"gridcolor\": \"white\", \"linecolor\": \"white\", \"ticks\": \"\"}, \"baxis\": {\"gridcolor\": \"white\", \"linecolor\": \"white\", \"ticks\": \"\"}, \"bgcolor\": \"#E5ECF6\", \"caxis\": {\"gridcolor\": \"white\", \"linecolor\": \"white\", \"ticks\": \"\"}}, \"title\": {\"x\": 0.05}, \"xaxis\": {\"automargin\": true, \"gridcolor\": \"white\", \"linecolor\": \"white\", \"ticks\": \"\", \"title\": {\"standoff\": 15}, \"zerolinecolor\": \"white\", \"zerolinewidth\": 2}, \"yaxis\": {\"automargin\": true, \"gridcolor\": \"white\", \"linecolor\": \"white\", \"ticks\": \"\", \"title\": {\"standoff\": 15}, \"zerolinecolor\": \"white\", \"zerolinewidth\": 2}}}, \"title\": {\"text\": \"Top Words used by Production Model to Identify /r/datascience Posts and Titles\"}, \"xaxis\": {\"anchor\": \"y\", \"domain\": [0.0, 1.0], \"title\": {\"text\": \"words\"}}, \"yaxis\": {\"anchor\": \"x\", \"domain\": [0.0, 1.0], \"title\": {\"text\": \"value\"}}},\n",
       "                        {\"responsive\": true}\n",
       "                    ).then(function(){\n",
       "                            \n",
       "var gd = document.getElementById('be241ae6-5b56-469b-b06a-3a076a43588f');\n",
       "var x = new MutationObserver(function (mutations, observer) {{\n",
       "        var display = window.getComputedStyle(gd).display;\n",
       "        if (!display || display === 'none') {{\n",
       "            console.log([gd, 'removed!']);\n",
       "            Plotly.purge(gd);\n",
       "            observer.disconnect();\n",
       "        }}\n",
       "}});\n",
       "\n",
       "// Listen for the removal of the full notebook cells\n",
       "var notebookContainer = gd.closest('#notebook-container');\n",
       "if (notebookContainer) {{\n",
       "    x.observe(notebookContainer, {childList: true});\n",
       "}}\n",
       "\n",
       "// Listen for the clearing of the current output cell\n",
       "var outputEl = gd.closest('.output');\n",
       "if (outputEl) {{\n",
       "    x.observe(outputEl, {childList: true});\n",
       "}}\n",
       "\n",
       "                        })\n",
       "                };\n",
       "                });\n",
       "            </script>\n",
       "        </div>"
      ]
     },
     "metadata": {},
     "output_type": "display_data"
    }
   ],
   "source": [
    "vector_barplotter(all_text, \"Top Words used by Production Model to Identify /r/datascience Posts and Titles\", \"words\")"
   ]
  },
  {
   "cell_type": "code",
   "execution_count": 27,
   "metadata": {},
   "outputs": [
    {
     "data": {
      "image/png": "[encoded data removed]",
      "text/plain": [
       "<Figure size 432x288 with 1 Axes>"
      ]
     },
     "metadata": {
      "needs_background": "light"
     },
     "output_type": "display_data"
    },
    {
     "name": "stdout",
     "output_type": "stream",
     "text": [
      "Top Words used by Production Model in /r/datascience Posts and Titles\n"
     ]
    }
   ],
   "source": [
    "#this plot once again represents the same data as the bar chart above; just more compactly.\n",
    "vector_treemap_plotter(all_text, \"Top Words used by Production Model in /r/datascience Posts and Titles\")"
   ]
  },
  {
   "cell_type": "markdown",
   "metadata": {},
   "source": [
    "Unfortunately, apart from the obvious references to \"data science\" and \"analytics\", **there isn't much special in the keywords used**. It looks similar to our general top keywords taken from earlier EDA and Visualizations. What we can understand, however, is that the `analytics` keyword and the `data` keyword play special importance in distinguishing between the two types of subreddits. \n",
    "\n",
    "**This means there is a difference between having a high scoring, highly accurate predicting a model, or having a model that provides better keywords to understand our 2 concepts better**"
   ]
  },
  {
   "cell_type": "markdown",
   "metadata": {},
   "source": [
    "## Our Dilemma - Accurate Prediction vs Garnering More Knowledge from Keywords"
   ]
  },
  {
   "cell_type": "markdown",
   "metadata": {},
   "source": [
    "Looking at the visualizations above and recalling our problem statement, we've definitely identified a very accurate model, but it seems that it doesn't take much more than identifying super obvious words/bigrams like `data` or `analytics` for our production model to distinguish either concept/subreddit with high accuracy.\n",
    "\n",
    "If we repeat the **Problem Statement** again:\n",
    "\n",
    "\"Can we create a Natural Language Processing model utilizing either Multinomial Bayes or Support Vector Machines to:\n",
    "\n",
    "* **accurately predict whether a post is from r/DataScience or r/Analytics, and** \n",
    "* use the better performing model's key words to **distinguish what conceptual and technical differences exist between Data Science vs Analytics** through keyword analysis of the two subreddits, \n",
    "* **in order to make concrete recommendations to students and professionals interested in either topic?\"**\n",
    "\n",
    "This means our production model only addresses the first of our objectives. We're not gaining enough new information from keyword analysis of a super accurate model to fulfill the second nor third objectives.\n",
    "\n",
    "We must therefore find a compromise. We had earlier divined from our intitial EDA in the previous notebook that top keywords in `titles` are way more *informative*. \n",
    "\n",
    "Let us return to our performance evaluation table, and **re-pick a model that is trained on post `titles` that hopefully is not abhorrently inaccurate.**"
   ]
  },
  {
   "cell_type": "code",
   "execution_count": 28,
   "metadata": {},
   "outputs": [
    {
     "data": {
      "text/html": [
       "<div>\n",
       "<style scoped>\n",
       "    .dataframe tbody tr th:only-of-type {\n",
       "        vertical-align: middle;\n",
       "    }\n",
       "\n",
       "    .dataframe tbody tr th {\n",
       "        vertical-align: top;\n",
       "    }\n",
       "\n",
       "    .dataframe thead th {\n",
       "        text-align: right;\n",
       "    }\n",
       "</style>\n",
       "<table border=\"1\" class=\"dataframe\">\n",
       "  <thead>\n",
       "    <tr style=\"text-align: right;\">\n",
       "      <th></th>\n",
       "      <th>model</th>\n",
       "      <th>train accuracy</th>\n",
       "      <th>test accuracy</th>\n",
       "      <th>test error</th>\n",
       "      <th>precision</th>\n",
       "    </tr>\n",
       "  </thead>\n",
       "  <tbody>\n",
       "    <tr>\n",
       "      <th>1</th>\n",
       "      <td>TFIDF Multinomial Bayes - Title Only</td>\n",
       "      <td>0.907</td>\n",
       "      <td>0.787</td>\n",
       "      <td>0.12</td>\n",
       "      <td>0.793</td>\n",
       "    </tr>\n",
       "    <tr>\n",
       "      <th>3</th>\n",
       "      <td>TFIDF SVM - Title Only</td>\n",
       "      <td>0.991</td>\n",
       "      <td>0.791</td>\n",
       "      <td>0.20</td>\n",
       "      <td>0.756</td>\n",
       "    </tr>\n",
       "  </tbody>\n",
       "</table>\n",
       "</div>"
      ],
      "text/plain": [
       "                                  model  train accuracy  test accuracy  \\\n",
       "1  TFIDF Multinomial Bayes - Title Only           0.907          0.787   \n",
       "3                TFIDF SVM - Title Only           0.991          0.791   \n",
       "\n",
       "   test error  precision  \n",
       "1        0.12      0.793  \n",
       "3        0.20      0.756  "
      ]
     },
     "execution_count": 28,
     "metadata": {},
     "output_type": "execute_result"
    }
   ],
   "source": [
    "#running our previously created table on title-trained models only\n",
    "eval_df.iloc[[1,3]]"
   ]
  },
  {
   "cell_type": "markdown",
   "metadata": {},
   "source": [
    "Looking at performance of our Title-focused models again, we see that the Title Only SVM model is most accurate with a score of `0.991`. **we will re-pick `TFIDF SVM - Title Only` as our *secondary* production model for purely informative keywords.** \n",
    "\n",
    "**Again, our baseline score is 0.868; our secondary production model still scores well at 0.991 from an accuracy standpoint. However, to meet the second and third problem statement goal of finding more unique keywords to differentiate analysts from data scientists, it means this title-focused secondary model is necessary.**"
   ]
  },
  {
   "cell_type": "markdown",
   "metadata": {},
   "source": [
    "We will now plot the top keywords used after we change the WordVectorizer parameters to those utilized by the secondary model:"
   ]
  },
  {
   "cell_type": "code",
   "execution_count": 22,
   "metadata": {},
   "outputs": [],
   "source": [
    "#best TFIDF parameters of SVM seconday model trained only on titles is different than the production model \n",
    "#this model only wants single words and no bigrams as best parameters\n",
    "vectorizer =TfidfVectorizer(max_features=10000, ngram_range=(1, 1))\n",
    "\n",
    "ds_titles = df[\"cleaned_title\"][df[\"subreddit_datascience\"]==1] #array of datascience titles\n",
    "an_titles = df[\"cleaned_title\"][df[\"subreddit_datascience\"]==0] #array of analytics titles"
   ]
  },
  {
   "cell_type": "markdown",
   "metadata": {},
   "source": [
    "## Visualizing Top Words Used by our Secondary Keyword-Focused Model in All Post Titles"
   ]
  },
  {
   "cell_type": "code",
   "execution_count": 23,
   "metadata": {},
   "outputs": [
    {
     "data": {
      "image/png": "[encoded data removed]",
      "text/plain": [
       "<Figure size 432x288 with 1 Axes>"
      ]
     },
     "metadata": {
      "needs_background": "light"
     },
     "output_type": "display_data"
    },
    {
     "name": "stdout",
     "output_type": "stream",
     "text": [
      "Top keywords used by our Secondary Model in Post Titles in both subreddits\n"
     ]
    }
   ],
   "source": [
    "#we plot a treemap that shows the same data above in an alternate way above.\n",
    "vector_treemap_plotter(df['cleaned_title'], \"Top keywords used by our Secondary Model in Post Titles in both subreddits\")"
   ]
  },
  {
   "cell_type": "code",
   "execution_count": 31,
   "metadata": {},
   "outputs": [
    {
     "data": {
      "image/png": "[encoded data removed]",
      "text/plain": [
       "<Figure size 432x288 with 1 Axes>"
      ]
     },
     "metadata": {
      "needs_background": "light"
     },
     "output_type": "display_data"
    },
    {
     "name": "stdout",
     "output_type": "stream",
     "text": [
      "Top keywords used by our Secondary Model in Post Titles in r/datascience only\n"
     ]
    }
   ],
   "source": [
    "vector_treemap_plotter(ds_titles, \"Top keywords used by our Secondary Model in Post Titles in r/datascience only\")"
   ]
  },
  {
   "cell_type": "code",
   "execution_count": 32,
   "metadata": {},
   "outputs": [
    {
     "data": {
      "image/png": "[encoded data removed]",
      "text/plain": [
       "<Figure size 432x288 with 1 Axes>"
      ]
     },
     "metadata": {
      "needs_background": "light"
     },
     "output_type": "display_data"
    },
    {
     "name": "stdout",
     "output_type": "stream",
     "text": [
      "Top keywords used by our Secondary Model in Post Titles in r/analytics\n"
     ]
    }
   ],
   "source": [
    "vector_treemap_plotter(an_titles, \"Top keywords used by our Secondary Model in Post Titles in r/analytics\")"
   ]
  },
  {
   "cell_type": "markdown",
   "metadata": {},
   "source": [
    "## Findings and Recommendations\n"
   ]
  },
  {
   "cell_type": "markdown",
   "metadata": {},
   "source": [
    "Even after training models, we still find that the top words in post titles here are identical to those we already identified briefly in EDA. \n",
    "\n",
    "**/r/analytics**: very specific unique words like **google** and **analytics** appear, as does **ga** (short for Google Analytics, not the school!).\n",
    "\n",
    "**/r/datascience**: again, there is clearly a focus on words like **python, learning (\"machine learning\")**, and even **job + interview**. With python and machine learning, it's pretty self-explanatory why we focus on these terms. The focus on words like **project** also obviously reflect the teamwork and group projects that data scientists work on. However, we already stated that the surprising mention of **covid** is curious - is it a large focus for data scientists now? "
   ]
  },
  {
   "cell_type": "markdown",
   "metadata": {},
   "source": [
    "### Analytics Keywords: Google and Web Analytics"
   ]
  },
  {
   "cell_type": "markdown",
   "metadata": {},
   "source": [
    "Google Analytics is the most popular web analytics platform that tracks and reports website traffic, currently as a platform inside the Google Marketing Platform brand: http://w3techs.com/technologies/overview/traffic_analysis/all.\n",
    " \n",
    "The high frequency of the \"google\" and \"google analytics\" keywords points directly to the software's importance in the job of Analysts - in particular Web Analysts. \n",
    "\n",
    "This also explains why \"tracking\" and \"user\" are keywords in /r/analytics - they have to do with the tracking of user acquisition and behaviour, usually in the interest of optimizing and monitoring digital marketing campaigns centred around Google Ads. \n",
    "\n",
    "That is already very different from what we do as data scientists. Google Analytics concerns itself with the live tracking of the success of digital marketing campaigns e.g. \"how many users clicked on my website today?\"; data scientists focus on training statistical machine learning models to predict a regression or classification-based problem that is not restricted to website usage.\n",
    "\n",
    "**Recommendation 1**: For marketing professionals and students, it would be extremely useful to study Google Analytics, as this can augment either their existing skillset or their future work. Google provides a free Analytics Academy portal to learn more about the subject:https://analytics.google.com/analytics/academy/."
   ]
  },
  {
   "cell_type": "markdown",
   "metadata": {},
   "source": [
    "### Analytics Keywords: Business Analytics and Business Analyst \n",
    "\n",
    "Google doesn't have the monopoly on all analytics platforms, though. Keywords like \"Business Analytics\" and the occupation of Business Analyst concern the general functional role of examining past business performance to drive business planning:https://en.wikipedia.org/wiki/Business_analytics\n",
    "\n",
    "Data scientists are not confined to business data alone. Business Analysts also use structured data and statistics, and while the statistical overlap exists with Data Science too, there former has little to no coding involved. There is also a perception that Business Analysts are \"closer\" to business decision-making processes than data scientists: https://www.mygreatlearning.com/blog/difference-between-data-science-business-analytics/#:~:text=Data%20Science%20vs%20Business%20Analytics%2C%20often,interchangeably%2C%20are%20very%20different%20domains.&text=Simply%20put%2C%20Data%20science%20is,business%20decisions%20for%20the%20company;\n",
    "\n",
    "However, there are exceptions, and data scientists can also be directly involved in business decision-making: https://towardsdatascience.com/data-science-for-decision-makers-7248beddf948\n",
    "\n",
    "**Recommendation 2**: There are plenty of courses out there focusing on Analytics toolkits like Excel Analysis ToolPak, or visualization tools like Tableau or PowerBI for generating dashboard and visualizations to communicate analysis results - with the clear result being that \"anybody with minimal or no coding background can learn analytics\":https://medium.com/@springboard_ind/data-science-vs-data-analytics-how-to-decide-which-one-is-right-for-you-41e7bdec080e#:~:text=It%20uses%20existing%20information%20to,needed%20answering%20to%20drive%20innovation."
   ]
  },
  {
   "cell_type": "markdown",
   "metadata": {},
   "source": [
    "### Data Science Keywords: COVID?\n",
    "\n",
    "The obvious words we are familiar with include machine learning, python and data science. However, is COVID a large enough concern to become a domain unto itself that data scientists ought to explore? The short answer is yes: https://www.orange-business.com/en/blogs/ai-and-data-science-tool-battle-covid-19,\n",
    "\n",
    "Orange Business Services describes how statistical machine learning has been used for disease modeling, in order to predict \"where the next pandemic will arrive and the impact it will have\". According to them, the significance of Data Science in this regard is not just the technical capacity of what we do, but how it can encourage early detection.\n",
    "\n",
    "Given the enormous interest in COVID recorded in tracking data (https://trends.google.com/trends/story/US_cu_4Rjdh3ABAABMHM_en),  it's no surprise then that planning ahead for how to avoid another pandemic has been underway. Perhaps data scientists wanting to work on the most contemporary issue affecting everybody now (as of June 2020) could think of starting to reserch medical data science.\n",
    "\n",
    "**Recommendation 3**: Data scientists who want to make a direct contribution to fighting COVID can actually partake in a Kaggle competition that can \"help the medical community develop answers to high priority scientific questions\": https://www.kaggle.com/allen-institute-for-ai/CORD-19-research-challenge. Within it contains the CORD-19 dataset, which \"represents the most extensive machine-readable coronavirus literature collection available for data mining to date.\" This is as good a starting point as any keen to help their community, or at the very least enhance their resume with contemporary work.\n"
   ]
  },
  {
   "cell_type": "markdown",
   "metadata": {},
   "source": [
    "## Summary"
   ]
  },
  {
   "cell_type": "markdown",
   "metadata": {},
   "source": [
    "That concludes our project. We began by framing the problem statement, which has 3 goals: accurate subreddit post prediction, clarifying the differences between data science vs analytics, and the formulating of recommendations inferred from said differences.\n",
    "\n",
    "After cleaning, exploratory data analysis (with custom functions creating multiple visualizations) and textual pre-processing, we created a Natural Language Processing using Multinomial Bayes as a baseline model, and beat its score using a TFIDF Multinomial Bayes Model focuses on all text. We achieved superior predictive accuracy, but realized that accuracy and deriving unique and informative keywords are mutually exclusive.\n",
    "\n",
    "To that end, we re-trained our models on titles, which took a hit on accuracy, but were rewarded with better keywords. It's important to note that the baseline score was still beaten even by our less accurate secondary model. \n",
    "\n",
    "We took external research on those keywords to draw some key differences to help answer what the difference is between Analytics and Data Science, and even uncovered a trending focus on COVID in data science. We followed this with practical recommendations to both students and professionals. "
   ]
  },
  {
   "cell_type": "markdown",
   "metadata": {},
   "source": [
    "### Future Steps:\n",
    "\n",
    "To make this project even more useful especially with respect to our initial obstacle of getting more unique keywords, we could get more data. This can be done by expanding our model to other subreddits that concern either data science or analytics, like r/MachineLearning or r/BusinessIntelligence. \n",
    "\n",
    "We could also scrape from other websites like LinkedIn, by scraping both Data Analyst/Business Analyst and Data Science job descriptions, or even LinkedIn profiles of people who hold those titles. "
   ]
  },
  {
   "cell_type": "code",
   "execution_count": null,
   "metadata": {},
   "outputs": [],
   "source": []
  }
 ],
 "metadata": {
  "kernelspec": {
   "display_name": "Python 3",
   "language": "python",
   "name": "python3"
  },
  "language_info": {
   "codemirror_mode": {
    "name": "ipython",
    "version": 3
   },
   "file_extension": ".py",
   "mimetype": "text/x-python",
   "name": "python",
   "nbconvert_exporter": "python",
   "pygments_lexer": "ipython3",
   "version": "3.7.6"
  }
 },
 "nbformat": 4,
 "nbformat_minor": 4
}
